{
 "cells": [
  {
   "cell_type": "markdown",
   "metadata": {},
   "source": [
    "List"
   ]
  },
  {
   "cell_type": "code",
   "execution_count": null,
   "metadata": {},
   "outputs": [],
   "source": [
    "List1 = [1,2,3]\n",
    "List2 = List1       # Both list1 and list2 refer to the same list\n",
    " \n",
    "List2.append(4)     # output :[1,2,3,4]\n",
    "List1               # output :[1,2,3,4]\n",
    "\n",
    "import copy \n",
    "List3=List1.copy()  # list3 is a new list, a shallow copy of list1\n",
    "List3.append(5)     # output :[1,2,3,4,5]\n",
    "List1               #output : [1,2,3,4]\n",
    "\n"
   ]
  },
  {
   "cell_type": "markdown",
   "metadata": {},
   "source": [
    "Graph\n",
    "\n",
    "There are several ways to represent graphs in Python:\n",
    "1-Adjacency Matrix:\n",
    "A 2D matrix where the rows and columns represent nodes.\n",
    "The value at the intersection of row i and column j indicates whether there's an edge between nodes i and j.\n",
    "Suitable for dense graphs (graphs with many edges).\n",
    "\n",
    "2-Adjacency List:\n",
    "\n",
    "A dictionary where keys are nodes and values are lists of neighboring nodes.\n",
    "Suitable for sparse graphs (graphs with few edges).\n",
    "\n",
    "3-Edge List:\n",
    "\n",
    "A list of tuples where each tuple represents an edge.\n",
    "\n",
    "*\n",
    "Weighted graphs: You can store edge weights in the adjacency matrix or as a third element in the tuples of the edge list.\n",
    "Directed graphs: For directed graphs, the adjacency matrix or list will not be symmetric."
   ]
  },
  {
   "cell_type": "code",
   "execution_count": null,
   "metadata": {},
   "outputs": [],
   "source": [
    "#-------- 2D arrays\n",
    "\n",
    "adjacency_matrix = [\n",
    "    [0, 1, 1, 0],\n",
    "    [1, 0, 1, 1],\n",
    "    [1, 1, 0, 1],\n",
    "    [0, 1, 1, 0]\n",
    "]\n",
    "\n",
    "#------- dictionary \n",
    "adjacency_list = {\n",
    "    'A': ['B', 'C'],\n",
    "    'B': ['A', 'C', 'D'],\n",
    "    'C': ['A', 'B', 'D'],\n",
    "    'D': ['B', 'C']\n",
    "}\n",
    "\n",
    "\n",
    "edge_list = [\n",
    "    ('A', 'B'),\n",
    "    ('A', 'C'),\n",
    "    ('B', 'C'),\n",
    "    ('B', 'D'),\n",
    "    ('C', 'D')\n",
    "]"
   ]
  }
 ],
 "metadata": {
  "language_info": {
   "name": "python"
  }
 },
 "nbformat": 4,
 "nbformat_minor": 2
}
